{
 "cells": [
  {
   "cell_type": "code",
   "execution_count": 3,
   "id": "13c75cc3-2ec1-402f-8a3b-7537701cb644",
   "metadata": {},
   "outputs": [],
   "source": [
    "import pandas as pd\n",
    "import datetime as dt\n",
    "import numpy as np\n",
    "import matplotlib.pyplot as plt\n",
    "\n",
    "pd.options.mode.chained_assignment = None\n",
    "# manuplation hourly data to remove minutes\n",
    "raw_data = pd.read_csv('raw_data.csv')\n",
    "time_dt = pd.to_datetime(raw_data['time'], format='%d.%m.%Y %H:%M')\n",
    "time_dt_hourbase = time_dt\n",
    "\n",
    "for i in range(0, len(time_dt)):\n",
    "    mmin = pd.Timedelta(minutes=time_dt[i].minute)\n",
    "    time_dt_hourbase[i] = time_dt[i] - mmin\n",
    "# Creating time domain for bus working hours\n",
    "data_new = raw_data.set_index(time_dt_hourbase)\n",
    "start_date = min(data_new.index)\n",
    "end_date = max(data_new.index)\n",
    "\n",
    "time_domain = pd.date_range(start=start_date, end=end_date, freq='H')\n",
    "working_time_domain = time_domain[time_domain.hour > 6]\n",
    "working_time_domain = working_time_domain[working_time_domain.hour < 17]\n",
    "working_time_domain = pd.DataFrame(data=working_time_domain, columns=['rev_time'])\n",
    "working_time_domain = working_time_domain.set_index(working_time_domain['rev_time'])\n",
    "# seperating data set for each municiplaity ID and make domain same\n",
    "\n",
    "data_new_sorted = data_new.sort_values(by=['user'], ascending=False)\n",
    "data_cleared = pd.DataFrame()\n",
    "for i in range(0, 10):\n",
    "    temp_df = data_new_sorted[data_new_sorted['place_id'] == i]\n",
    "    temp_ind = temp_df.index.duplicated(keep='first')\n",
    "    last_df = temp_df[temp_ind == False]\n",
    "    last_df = last_df.sort_index()\n",
    "    last_df = pd.concat([working_time_domain, last_df], axis=1)\n",
    "    last_df['place_id'] = last_df['place_id'].fillna(i)\n",
    "    data_cleared = data_cleared.append(last_df, ignore_index=False)\n",
    "# continiuty check\n",
    "date_freq = pd.DataFrame()\n",
    "for i in range(0, 10):\n",
    "    y = data_cleared['user'][data_cleared['place_id'] == i]\n",
    "    date_freq['place_' + str(i)] = pd.Series(working_time_domain.index.date[y.isna() == True]).value_counts()\n",
    "\n",
    "# day should be assumed completely = 20/06, 21/06, 31/07,03/08,04/08\n",
    "missing_dates = date_freq.index[date_freq['place_0'] == 10]\n",
    "# other missing data are only one hour in a day\n",
    "filled_data = pd.DataFrame()\n",
    "for i in range(0, 10):\n",
    "    y = data_cleared[data_cleared['place_id'] == i]\n",
    "    for k in range(0, len(y)):\n",
    "        if y.index[k].date() in missing_dates:\n",
    "            y.time[k] = y.rev_time[k]\n",
    "            y.user[k] = (y.user[(k - 70)]+ y.user[(k -140)])*0.5\n",
    "            y.capacity[k] = y.capacity[k - 1]\n",
    "        elif pd.isna(y.user[k]) and (y.index[k].hour == 7 or y.index[k].hour == 16):\n",
    "            y.time[k] = y.rev_time[k]\n",
    "            y.user[k] = (y.user[k - 10]+y.user[k-20])*0.5\n",
    "            y.capacity[k] = y.capacity[k - 1]\n",
    "        elif pd.isna(y.user[k]):\n",
    "            y.time[k] = y.rev_time[k]\n",
    "            y.user[k] = (y.user[k - 1] + y.user[k + 1]) * 0.5\n",
    "            y.capacity[k] = y.capacity[k - 1]\n",
    "    filled_data = filled_data.append(y, ignore_index=False)\n"
   ]
  },
  {
   "cell_type": "code",
   "execution_count": 4,
   "id": "41e107ce-89b3-4668-a986-f8285ad6b901",
   "metadata": {},
   "outputs": [
    {
     "name": "stdout",
     "output_type": "stream",
     "text": [
      "                               rev_time              time  place_id   user  \\\n",
      "2017-06-04 07:00:00 2017-06-04 07:00:00  04.06.2017 07:59       0.0  204.0   \n",
      "2017-06-04 08:00:00 2017-06-04 08:00:00  04.06.2017 08:59       0.0  332.0   \n",
      "2017-06-04 09:00:00 2017-06-04 09:00:00  04.06.2017 09:59       0.0  485.0   \n",
      "2017-06-04 10:00:00 2017-06-04 10:00:00  04.06.2017 10:59       0.0  583.0   \n",
      "2017-06-04 11:00:00 2017-06-04 11:00:00  04.06.2017 11:59       0.0  614.0   \n",
      "...                                 ...               ...       ...    ...   \n",
      "2017-08-19 12:00:00 2017-08-19 12:00:00  19.08.2017 12:30       9.0  849.0   \n",
      "2017-08-19 13:00:00 2017-08-19 13:00:00  19.08.2017 13:30       9.0  941.0   \n",
      "2017-08-19 14:00:00 2017-08-19 14:00:00  19.08.2017 14:30       9.0  983.0   \n",
      "2017-08-19 15:00:00 2017-08-19 15:00:00  19.08.2017 15:03       9.0  976.0   \n",
      "2017-08-19 16:00:00 2017-08-19 16:00:00  19.08.2017 16:03       9.0  879.0   \n",
      "\n",
      "                     capacity  \n",
      "2017-06-04 07:00:00    2813.0  \n",
      "2017-06-04 08:00:00    2813.0  \n",
      "2017-06-04 09:00:00    2813.0  \n",
      "2017-06-04 10:00:00    2813.0  \n",
      "2017-06-04 11:00:00    2813.0  \n",
      "...                       ...  \n",
      "2017-08-19 12:00:00    1332.0  \n",
      "2017-08-19 13:00:00    1332.0  \n",
      "2017-08-19 14:00:00    1332.0  \n",
      "2017-08-19 15:00:00    1332.0  \n",
      "2017-08-19 16:00:00    1332.0  \n",
      "\n",
      "[7700 rows x 5 columns]\n"
     ]
    }
   ],
   "source": [
    "print(filled_data)"
   ]
  },
  {
   "cell_type": "code",
   "execution_count": 15,
   "id": "61164502-83ee-4a1e-8176-d4682fa9aaa6",
   "metadata": {},
   "outputs": [
    {
     "name": "stdout",
     "output_type": "stream",
     "text": [
      "   Place_id  Week77_Fourier_Forecast  Week77_MLR_Forecast  \\\n",
      "0         0                32.764482            30.666552   \n",
      "1         1                17.017501             8.137491   \n",
      "2         2                11.869993            10.890132   \n",
      "3         3                19.448999            19.125181   \n",
      "4         4                19.488098            21.222802   \n",
      "5         5                43.209712            38.905481   \n",
      "6         6                27.029943            22.850619   \n",
      "7         7                 8.103196             7.673241   \n",
      "8         8                12.445143            13.455173   \n",
      "9         9                11.334480             8.659284   \n",
      "\n",
      "   Week76_Fourier_Forecast  Week76_MLR_Forecast  Fourier_Model_Fit  \\\n",
      "0                12.600032            10.878098          18.539735   \n",
      "1                 9.037163             7.086301          10.668371   \n",
      "2                22.034328            14.768196          11.671205   \n",
      "3                22.259353            18.487535          16.833687   \n",
      "4                23.611328            19.931026          19.573417   \n",
      "5                38.086831            44.040562          25.072314   \n",
      "6                18.165647             8.999856          12.324015   \n",
      "7                12.379679             9.954147           8.334363   \n",
      "8                12.591437            12.351568          10.585288   \n",
      "9                10.856529             8.658772           8.570195   \n",
      "\n",
      "   MLR_Model_Fit  \n",
      "0      23.221301  \n",
      "1      12.989141  \n",
      "2      13.737868  \n",
      "3      19.552375  \n",
      "4      24.156850  \n",
      "5      32.082363  \n",
      "6      14.892944  \n",
      "7       9.536980  \n",
      "8      13.092115  \n",
      "9      10.042328  \n"
     ]
    }
   ],
   "source": [
    "#Model Comparison (Mean Absolute Percante(%) Error) for developped model fit to existing data and forecast for last two weeks\n",
    "results= pd.read_csv('results.csv')\n",
    "print(results)"
   ]
  },
  {
   "cell_type": "code",
   "execution_count": null,
   "id": "4640b65c-4c13-4ca0-8b52-3ea41904cc27",
   "metadata": {},
   "outputs": [],
   "source": [
    "#Explanation & comments : I developped two model both based on regression but one of them coefficients comes from Fourier Expansion because if daily curves of the data are checked there is weekly periyodik cycle\n",
    "#so Fourier expansion with modulation is powerful method to modelling this kind of data. Other model, multiple linear regression. When we compare results for forecast and modelling, Fourier Model's errors\n",
    "#are the lower for modelling existing data while forecast errors are quite high.\n",
    "#I didn't make any residual analysis because this just to show how I approach to any problem. "
   ]
  }
 ],
 "metadata": {
  "kernelspec": {
   "display_name": "Python 3 (ipykernel)",
   "language": "python",
   "name": "python3"
  },
  "language_info": {
   "codemirror_mode": {
    "name": "ipython",
    "version": 3
   },
   "file_extension": ".py",
   "mimetype": "text/x-python",
   "name": "python",
   "nbconvert_exporter": "python",
   "pygments_lexer": "ipython3",
   "version": "3.8.8"
  }
 },
 "nbformat": 4,
 "nbformat_minor": 5
}
